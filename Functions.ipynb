{
 "cells": [
  {
   "cell_type": "code",
   "execution_count": 1,
   "id": "4f73754d",
   "metadata": {},
   "outputs": [
    {
     "name": "stdout",
     "output_type": "stream",
     "text": [
      "The remaining stock is 47892\n",
      "The remaining stock is 45750\n",
      "The remaining stock is 43748\n",
      "The remaining stock is 40836\n",
      "The remaining stock is 38894\n"
     ]
    }
   ],
   "source": [
    "#Day 1\n",
    "initial_stock = 50234\n",
    "stock_sold = 2342\n",
    "remaining_stock = initial_stock - stock_sold\n",
    "print('The remaining stock is ' + str(remaining_stock))\n",
    "\n",
    "#Day 2\n",
    "initial_stock = 47892\n",
    "stock_sold = 2142\n",
    "remaining_stock = initial_stock - stock_sold\n",
    "print('The remaining stock is ' + str(remaining_stock))\n",
    "\n",
    "#Day 3\n",
    "initial_stock = 45750\n",
    "stock_sold = 2002\n",
    "remaining_stock = initial_stock - stock_sold\n",
    "print('The remaining stock is ' + str(remaining_stock))\n",
    "\n",
    "#Day 4\n",
    "initial_stock = 43748\n",
    "stock_sold = 2912\n",
    "remaining_stock = initial_stock - stock_sold\n",
    "print('The remaining stock is ' + str(remaining_stock))\n",
    "\n",
    "#Day 5\n",
    "initial_stock = 40836\n",
    "stock_sold = 1942\n",
    "remaining_stock = initial_stock - stock_sold\n",
    "print('The remaining stock is ' + str(remaining_stock))"
   ]
  },
  {
   "cell_type": "code",
   "execution_count": 2,
   "id": "63ba1e08",
   "metadata": {},
   "outputs": [],
   "source": [
    "def stock_calculator(initial_stock, stock_sold):\n",
    "    remaining_stock = initial_stock - stock_sold\n",
    "    return 'The remaining stock is ' + str(remaining_stock)"
   ]
  },
  {
   "cell_type": "code",
   "execution_count": 3,
   "id": "8d47ce56",
   "metadata": {},
   "outputs": [
    {
     "name": "stdout",
     "output_type": "stream",
     "text": [
      "The remaining stock is 47892\n"
     ]
    }
   ],
   "source": [
    "day_1 = stock_calculator(50234, 2342)\n",
    "print(day_1)"
   ]
  },
  {
   "cell_type": "code",
   "execution_count": 4,
   "id": "f7d98cfd",
   "metadata": {},
   "outputs": [
    {
     "name": "stdout",
     "output_type": "stream",
     "text": [
      "The remaining stock is 45750\n"
     ]
    }
   ],
   "source": [
    "day_2 = stock_calculator(47892, 2142)\n",
    "print(day_2)"
   ]
  },
  {
   "cell_type": "code",
   "execution_count": 5,
   "id": "34bd734d",
   "metadata": {},
   "outputs": [
    {
     "name": "stdout",
     "output_type": "stream",
     "text": [
      "The remaining stock is 43748\n"
     ]
    }
   ],
   "source": [
    "day_3 = stock_calculator(45750, 2002)\n",
    "print(day_3)"
   ]
  },
  {
   "cell_type": "code",
   "execution_count": 6,
   "id": "39f16c45",
   "metadata": {},
   "outputs": [
    {
     "name": "stdout",
     "output_type": "stream",
     "text": [
      "The remaining stock is 40836\n"
     ]
    }
   ],
   "source": [
    "day_4 = stock_calculator(43748, 2912)\n",
    "print(day_4)"
   ]
  },
  {
   "cell_type": "code",
   "execution_count": 7,
   "id": "066512e8",
   "metadata": {},
   "outputs": [
    {
     "name": "stdout",
     "output_type": "stream",
     "text": [
      "The remaining stock is 38894\n"
     ]
    }
   ],
   "source": [
    "day_5 = stock_calculator(40836, 1942)\n",
    "print(day_5)"
   ]
  },
  {
   "cell_type": "code",
   "execution_count": null,
   "id": "2ea49934",
   "metadata": {},
   "outputs": [],
   "source": []
  }
 ],
 "metadata": {
  "kernelspec": {
   "display_name": "Python 3",
   "language": "python",
   "name": "python3"
  },
  "language_info": {
   "codemirror_mode": {
    "name": "ipython",
    "version": 3
   },
   "file_extension": ".py",
   "mimetype": "text/x-python",
   "name": "python",
   "nbconvert_exporter": "python",
   "pygments_lexer": "ipython3",
   "version": "3.8.8"
  }
 },
 "nbformat": 4,
 "nbformat_minor": 5
}
